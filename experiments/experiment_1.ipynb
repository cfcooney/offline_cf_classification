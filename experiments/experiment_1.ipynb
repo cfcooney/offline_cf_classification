{
 "cells": [
  {
   "cell_type": "markdown",
   "id": "16b9d958-1908-4a13-a4db-1d47fb1caa93",
   "metadata": {},
   "source": [
    "# Experiment 1:\n",
    "## Approach: \n",
    "* Universal Sentence Encoder Large \n",
    "* Template matrix build from text encodings \n",
    "* No text preprocesseing\n",
    "* Similarity measured between template and document.\n",
    "* Similarity below 0.7 ruled 'other.\n",
    "\n",
    "## Dataset:\n",
    "* interim_output_template_500_documents_rev4.xlsx.\n",
    "* 476 documents tested (some not included due to textract problem).\n",
    "* 19 templates used - [acdbcf, ahwcf, ahwcf_v3, ahwcf_v4, aicf_pg1, aicf_pg2, aicf_v1, aicf_v2, aicf_v3, canscr, clmapp, hicf_pg1, hicf_pg2, init_pg1_v2, init_pg3, phystmt, ptscf, pvbcf]\n",
    "* Available [here](\"s3://aaca-ani-experiments-data/aaca-docdig-test/offline_cf_classification/templates/template_images/\")\n",
    "\n",
    "# Result: 97% F1 Score"
   ]
  },
  {
   "cell_type": "code",
   "execution_count": null,
   "id": "cb2f9809-bcc2-4145-91bd-2d4994f505b4",
   "metadata": {},
   "outputs": [],
   "source": [
    "#!pip install -r requirements.txt"
   ]
  },
  {
   "cell_type": "code",
   "execution_count": 4,
   "id": "56704f37-b4f7-4dbe-9104-78937b79ffd0",
   "metadata": {
    "tags": []
   },
   "outputs": [
    {
     "name": "stdout",
     "output_type": "stream",
     "text": [
      "01/03/2023 12:16:51 | __main__ | INFO: Beginning creation of templates\n",
      "01/03/2023 12:18:08 | __main__ | INFO: Template creation complete\n"
     ]
    }
   ],
   "source": [
    "%run create_template_main"
   ]
  },
  {
   "cell_type": "code",
   "execution_count": null,
   "id": "10026d91-0a10-475b-a687-f298da58e054",
   "metadata": {},
   "outputs": [],
   "source": [
    "%run run_get_text_for_test.py"
   ]
  },
  {
   "cell_type": "code",
   "execution_count": 2,
   "id": "badf7fbb-e804-4b5f-8144-beab7921e4e4",
   "metadata": {},
   "outputs": [
    {
     "name": "stderr",
     "output_type": "stream",
     "text": [
      "2022-11-03 14:38:23.099108: W tensorflow/stream_executor/platform/default/dso_loader.cc:64] Could not load dynamic library 'libcudart.so.11.0'; dlerror: libcudart.so.11.0: cannot open shared object file: No such file or directory\n",
      "2022-11-03 14:38:23.099147: I tensorflow/stream_executor/cuda/cudart_stub.cc:29] Ignore above cudart dlerror if you do not have a GPU set up on your machine.\n",
      "2022-11-03 14:38:27.108675: W tensorflow/stream_executor/platform/default/dso_loader.cc:64] Could not load dynamic library 'libcuda.so.1'; dlerror: libcuda.so.1: cannot open shared object file: No such file or directory\n",
      "2022-11-03 14:38:27.108715: W tensorflow/stream_executor/cuda/cuda_driver.cc:269] failed call to cuInit: UNKNOWN ERROR (303)\n",
      "2022-11-03 14:38:27.108746: I tensorflow/stream_executor/cuda/cuda_diagnostics.cc:156] kernel driver does not appear to be running on this host (sagemaker-data-scienc-ml-t3-medium-5812005f1de07e20cb211bb2dcf1): /proc/driver/nvidia/version does not exist\n",
      "2022-11-03 14:38:27.108992: I tensorflow/core/platform/cpu_feature_guard.cc:151] This TensorFlow binary is optimized with oneAPI Deep Neural Network Library (oneDNN) to use the following CPU instructions in performance-critical operations:  AVX2 AVX512F FMA\n",
      "To enable them in other operations, rebuild TensorFlow with the appropriate compiler flags.\n",
      "2022-11-03 14:38:33.253535: W tensorflow/core/framework/cpu_allocator_impl.cc:82] Allocation of 17067520 exceeds 10% of free system memory.\n",
      "2022-11-03 14:38:33.321562: W tensorflow/core/framework/cpu_allocator_impl.cc:82] Allocation of 17067520 exceeds 10% of free system memory.\n",
      "2022-11-03 14:38:33.391405: W tensorflow/core/framework/cpu_allocator_impl.cc:82] Allocation of 17067520 exceeds 10% of free system memory.\n",
      "2022-11-03 14:38:33.461248: W tensorflow/core/framework/cpu_allocator_impl.cc:82] Allocation of 17067520 exceeds 10% of free system memory.\n",
      "2022-11-03 14:38:33.533385: W tensorflow/core/framework/cpu_allocator_impl.cc:82] Allocation of 17067520 exceeds 10% of free system memory.\n"
     ]
    },
    {
     "name": "stdout",
     "output_type": "stream",
     "text": [
      "11/03/2022 14:38:53 | __main__ | INFO: Beginning classification run on test set: aaca-docdig-test/offline_cf_classification/test_sets/text_files_500/\n",
      "11/03/2022 14:42:07 | __main__ | INFO: Completed classification run\n",
      "11/03/2022 14:42:07 | __main__ | INFO: Results saved to: data/results/experiment_1.xlsx\n"
     ]
    }
   ],
   "source": [
    "run run_on_test_set.py"
   ]
  },
  {
   "cell_type": "code",
   "execution_count": 6,
   "id": "135eb1d3-75ff-465d-8da3-5baefd6a9699",
   "metadata": {},
   "outputs": [],
   "source": [
    "import boto3\n",
    "from sklearn.metrics import classification_report\n",
    "from utils import fix_others"
   ]
  },
  {
   "cell_type": "code",
   "execution_count": 4,
   "id": "0b6272ac-67ab-4b5c-8dfb-b6260669bab0",
   "metadata": {},
   "outputs": [
    {
     "data": {
      "text/html": [
       "<div>\n",
       "<style scoped>\n",
       "    .dataframe tbody tr th:only-of-type {\n",
       "        vertical-align: middle;\n",
       "    }\n",
       "\n",
       "    .dataframe tbody tr th {\n",
       "        vertical-align: top;\n",
       "    }\n",
       "\n",
       "    .dataframe thead th {\n",
       "        text-align: right;\n",
       "    }\n",
       "</style>\n",
       "<table border=\"1\" class=\"dataframe\">\n",
       "  <thead>\n",
       "    <tr style=\"text-align: right;\">\n",
       "      <th></th>\n",
       "      <th>json</th>\n",
       "      <th>template</th>\n",
       "      <th>textarct_key_value_dictionary</th>\n",
       "      <th>text</th>\n",
       "      <th>png_path</th>\n",
       "      <th>template_from_interim_logic</th>\n",
       "      <th>Unnamed: 7</th>\n",
       "      <th>revised_template</th>\n",
       "      <th>results</th>\n",
       "      <th>score</th>\n",
       "    </tr>\n",
       "  </thead>\n",
       "  <tbody>\n",
       "    <tr>\n",
       "      <th>0</th>\n",
       "      <td>doc-digitization-pipeline/AD/P0X024W1_02751999...</td>\n",
       "      <td>ahwcf</td>\n",
       "      <td>{'ZIP:': '3 2 5 0 4', 'Primary Pollcyholder': ...</td>\n",
       "      <td>02-26-21:11:174M; ;11 # 2/ 2 20 ACCIDENT WELLN...</td>\n",
       "      <td>doc-digitization-pipeline/AD/P0X024W1_02751999...</td>\n",
       "      <td>ahwcf</td>\n",
       "      <td>NaN</td>\n",
       "      <td>ahwcf_v3</td>\n",
       "      <td>ahwcf_v3</td>\n",
       "      <td>0.856593</td>\n",
       "    </tr>\n",
       "    <tr>\n",
       "      <th>1</th>\n",
       "      <td>doc-digitization-pipeline/AD/PX372696_02641791...</td>\n",
       "      <td>aicf_pg2</td>\n",
       "      <td>{'*Date of Birth (mm/dd/yy)': '/ /', 'DATE': '...</td>\n",
       "      <td>PX372696 Policyholder Information: *Last Name ...</td>\n",
       "      <td>doc-digitization-pipeline/AD/PX372696_02641791...</td>\n",
       "      <td>aicf_pg2</td>\n",
       "      <td>NaN</td>\n",
       "      <td>aicf_pg2</td>\n",
       "      <td>aicf_pg2</td>\n",
       "      <td>0.917460</td>\n",
       "    </tr>\n",
       "    <tr>\n",
       "      <th>2</th>\n",
       "      <td>doc-digitization-pipeline/AD/P0342280_02744692...</td>\n",
       "      <td>aicf_v1</td>\n",
       "      <td>{'State': 'IL', 'Initial': 'R.', 'ZIP': '61234...</td>\n",
       "      <td>ACCIDENTAL INJURY CLAIM FORM Failure to comple...</td>\n",
       "      <td>doc-digitization-pipeline/AD/P0342280_02744692...</td>\n",
       "      <td>other</td>\n",
       "      <td>NaN</td>\n",
       "      <td>aicf_v1</td>\n",
       "      <td>aicf_v1</td>\n",
       "      <td>0.911419</td>\n",
       "    </tr>\n",
       "    <tr>\n",
       "      <th>3</th>\n",
       "      <td>doc-digitization-pipeline/AD/P0L700T5_02844807...</td>\n",
       "      <td>aicf_pg2</td>\n",
       "      <td>{'No': 'X', '*First Name': 'M I C H A E L', 'D...</td>\n",
       "      <td>if you have additional bills or medical docume...</td>\n",
       "      <td>doc-digitization-pipeline/AD/P0L700T5_02844807...</td>\n",
       "      <td>aicf_pg2</td>\n",
       "      <td>NaN</td>\n",
       "      <td>aicf_pg2</td>\n",
       "      <td>aicf_pg2</td>\n",
       "      <td>0.931417</td>\n",
       "    </tr>\n",
       "    <tr>\n",
       "      <th>4</th>\n",
       "      <td>doc-digitization-pipeline/AD/P0P9L5Y4_02716028...</td>\n",
       "      <td>aicf_pg2</td>\n",
       "      <td>{'\"Date of Birth (mm/dd/yy)': 'D 8 / I 8 / 0 6...</td>\n",
       "      <td>02-10-21:02:42PM; AFLAC Claims ;7149869600 3/ ...</td>\n",
       "      <td>doc-digitization-pipeline/AD/P0P9L5Y4_02716028...</td>\n",
       "      <td>aicf_pg2</td>\n",
       "      <td>NaN</td>\n",
       "      <td>aicf_pg2</td>\n",
       "      <td>ptscf</td>\n",
       "      <td>0.781522</td>\n",
       "    </tr>\n",
       "  </tbody>\n",
       "</table>\n",
       "</div>"
      ],
      "text/plain": [
       "                                                json  template  \\\n",
       "0  doc-digitization-pipeline/AD/P0X024W1_02751999...     ahwcf   \n",
       "1  doc-digitization-pipeline/AD/PX372696_02641791...  aicf_pg2   \n",
       "2  doc-digitization-pipeline/AD/P0342280_02744692...   aicf_v1   \n",
       "3  doc-digitization-pipeline/AD/P0L700T5_02844807...  aicf_pg2   \n",
       "4  doc-digitization-pipeline/AD/P0P9L5Y4_02716028...  aicf_pg2   \n",
       "\n",
       "                       textarct_key_value_dictionary  \\\n",
       "0  {'ZIP:': '3 2 5 0 4', 'Primary Pollcyholder': ...   \n",
       "1  {'*Date of Birth (mm/dd/yy)': '/ /', 'DATE': '...   \n",
       "2  {'State': 'IL', 'Initial': 'R.', 'ZIP': '61234...   \n",
       "3  {'No': 'X', '*First Name': 'M I C H A E L', 'D...   \n",
       "4  {'\"Date of Birth (mm/dd/yy)': 'D 8 / I 8 / 0 6...   \n",
       "\n",
       "                                                text  \\\n",
       "0  02-26-21:11:174M; ;11 # 2/ 2 20 ACCIDENT WELLN...   \n",
       "1  PX372696 Policyholder Information: *Last Name ...   \n",
       "2  ACCIDENTAL INJURY CLAIM FORM Failure to comple...   \n",
       "3  if you have additional bills or medical docume...   \n",
       "4  02-10-21:02:42PM; AFLAC Claims ;7149869600 3/ ...   \n",
       "\n",
       "                                            png_path  \\\n",
       "0  doc-digitization-pipeline/AD/P0X024W1_02751999...   \n",
       "1  doc-digitization-pipeline/AD/PX372696_02641791...   \n",
       "2  doc-digitization-pipeline/AD/P0342280_02744692...   \n",
       "3  doc-digitization-pipeline/AD/P0L700T5_02844807...   \n",
       "4  doc-digitization-pipeline/AD/P0P9L5Y4_02716028...   \n",
       "\n",
       "  template_from_interim_logic Unnamed: 7 revised_template   results     score  \n",
       "0                       ahwcf        NaN         ahwcf_v3  ahwcf_v3  0.856593  \n",
       "1                    aicf_pg2        NaN         aicf_pg2  aicf_pg2  0.917460  \n",
       "2                       other        NaN          aicf_v1   aicf_v1  0.911419  \n",
       "3                    aicf_pg2        NaN         aicf_pg2  aicf_pg2  0.931417  \n",
       "4                    aicf_pg2        NaN         aicf_pg2     ptscf  0.781522  "
      ]
     },
     "execution_count": 4,
     "metadata": {},
     "output_type": "execute_result"
    }
   ],
   "source": [
    "df = pd.read_excel('data/results/experiment_1.xlsx', index_col=0, engine='openpyxl')\n",
    "df.head()"
   ]
  },
  {
   "cell_type": "code",
   "execution_count": 5,
   "id": "fafe846a-a096-40f5-b9cc-7bc992e1b11b",
   "metadata": {},
   "outputs": [],
   "source": [
    "filtered_df = df[df['results'] != -100]"
   ]
  },
  {
   "cell_type": "code",
   "execution_count": 6,
   "id": "1657e1e9-7b31-4159-8cf9-5df5f0007e6e",
   "metadata": {},
   "outputs": [
    {
     "name": "stderr",
     "output_type": "stream",
     "text": [
      "/tmp/ipykernel_20/1466064053.py:1: SettingWithCopyWarning: \n",
      "A value is trying to be set on a copy of a slice from a DataFrame.\n",
      "Try using .loc[row_indexer,col_indexer] = value instead\n",
      "\n",
      "See the caveats in the documentation: https://pandas.pydata.org/pandas-docs/stable/user_guide/indexing.html#returning-a-view-versus-a-copy\n",
      "  filtered_df['results'] = filtered_df.apply(lambda row: fix_others(row), axis=1)\n"
     ]
    }
   ],
   "source": [
    "filtered_df['results'] = filtered_df.apply(lambda row: fix_others(row), axis=1)"
   ]
  },
  {
   "cell_type": "code",
   "execution_count": 7,
   "id": "3d28c148-1e3d-4c1e-a47c-ce4e8d32ebce",
   "metadata": {},
   "outputs": [
    {
     "data": {
      "text/html": [
       "<div>\n",
       "<style scoped>\n",
       "    .dataframe tbody tr th:only-of-type {\n",
       "        vertical-align: middle;\n",
       "    }\n",
       "\n",
       "    .dataframe tbody tr th {\n",
       "        vertical-align: top;\n",
       "    }\n",
       "\n",
       "    .dataframe thead th {\n",
       "        text-align: right;\n",
       "    }\n",
       "</style>\n",
       "<table border=\"1\" class=\"dataframe\">\n",
       "  <thead>\n",
       "    <tr style=\"text-align: right;\">\n",
       "      <th></th>\n",
       "      <th>json</th>\n",
       "      <th>template</th>\n",
       "      <th>textarct_key_value_dictionary</th>\n",
       "      <th>text</th>\n",
       "      <th>png_path</th>\n",
       "      <th>template_from_interim_logic</th>\n",
       "      <th>Unnamed: 7</th>\n",
       "      <th>revised_template</th>\n",
       "      <th>results</th>\n",
       "      <th>score</th>\n",
       "    </tr>\n",
       "  </thead>\n",
       "  <tbody>\n",
       "    <tr>\n",
       "      <th>0</th>\n",
       "      <td>doc-digitization-pipeline/AD/P0X024W1_02751999...</td>\n",
       "      <td>ahwcf</td>\n",
       "      <td>{'ZIP:': '3 2 5 0 4', 'Primary Pollcyholder': ...</td>\n",
       "      <td>02-26-21:11:174M; ;11 # 2/ 2 20 ACCIDENT WELLN...</td>\n",
       "      <td>doc-digitization-pipeline/AD/P0X024W1_02751999...</td>\n",
       "      <td>ahwcf</td>\n",
       "      <td>NaN</td>\n",
       "      <td>ahwcf_v3</td>\n",
       "      <td>ahwcf_v3</td>\n",
       "      <td>0.856593</td>\n",
       "    </tr>\n",
       "    <tr>\n",
       "      <th>1</th>\n",
       "      <td>doc-digitization-pipeline/AD/PX372696_02641791...</td>\n",
       "      <td>aicf_pg2</td>\n",
       "      <td>{'*Date of Birth (mm/dd/yy)': '/ /', 'DATE': '...</td>\n",
       "      <td>PX372696 Policyholder Information: *Last Name ...</td>\n",
       "      <td>doc-digitization-pipeline/AD/PX372696_02641791...</td>\n",
       "      <td>aicf_pg2</td>\n",
       "      <td>NaN</td>\n",
       "      <td>aicf_pg2</td>\n",
       "      <td>aicf_pg2</td>\n",
       "      <td>0.917460</td>\n",
       "    </tr>\n",
       "    <tr>\n",
       "      <th>2</th>\n",
       "      <td>doc-digitization-pipeline/AD/P0342280_02744692...</td>\n",
       "      <td>aicf_v1</td>\n",
       "      <td>{'State': 'IL', 'Initial': 'R.', 'ZIP': '61234...</td>\n",
       "      <td>ACCIDENTAL INJURY CLAIM FORM Failure to comple...</td>\n",
       "      <td>doc-digitization-pipeline/AD/P0342280_02744692...</td>\n",
       "      <td>other</td>\n",
       "      <td>NaN</td>\n",
       "      <td>aicf_v1</td>\n",
       "      <td>aicf_v1</td>\n",
       "      <td>0.911419</td>\n",
       "    </tr>\n",
       "    <tr>\n",
       "      <th>3</th>\n",
       "      <td>doc-digitization-pipeline/AD/P0L700T5_02844807...</td>\n",
       "      <td>aicf_pg2</td>\n",
       "      <td>{'No': 'X', '*First Name': 'M I C H A E L', 'D...</td>\n",
       "      <td>if you have additional bills or medical docume...</td>\n",
       "      <td>doc-digitization-pipeline/AD/P0L700T5_02844807...</td>\n",
       "      <td>aicf_pg2</td>\n",
       "      <td>NaN</td>\n",
       "      <td>aicf_pg2</td>\n",
       "      <td>aicf_pg2</td>\n",
       "      <td>0.931417</td>\n",
       "    </tr>\n",
       "    <tr>\n",
       "      <th>4</th>\n",
       "      <td>doc-digitization-pipeline/AD/P0P9L5Y4_02716028...</td>\n",
       "      <td>aicf_pg2</td>\n",
       "      <td>{'\"Date of Birth (mm/dd/yy)': 'D 8 / I 8 / 0 6...</td>\n",
       "      <td>02-10-21:02:42PM; AFLAC Claims ;7149869600 3/ ...</td>\n",
       "      <td>doc-digitization-pipeline/AD/P0P9L5Y4_02716028...</td>\n",
       "      <td>aicf_pg2</td>\n",
       "      <td>NaN</td>\n",
       "      <td>aicf_pg2</td>\n",
       "      <td>ptscf</td>\n",
       "      <td>0.781522</td>\n",
       "    </tr>\n",
       "  </tbody>\n",
       "</table>\n",
       "</div>"
      ],
      "text/plain": [
       "                                                json  template  \\\n",
       "0  doc-digitization-pipeline/AD/P0X024W1_02751999...     ahwcf   \n",
       "1  doc-digitization-pipeline/AD/PX372696_02641791...  aicf_pg2   \n",
       "2  doc-digitization-pipeline/AD/P0342280_02744692...   aicf_v1   \n",
       "3  doc-digitization-pipeline/AD/P0L700T5_02844807...  aicf_pg2   \n",
       "4  doc-digitization-pipeline/AD/P0P9L5Y4_02716028...  aicf_pg2   \n",
       "\n",
       "                       textarct_key_value_dictionary  \\\n",
       "0  {'ZIP:': '3 2 5 0 4', 'Primary Pollcyholder': ...   \n",
       "1  {'*Date of Birth (mm/dd/yy)': '/ /', 'DATE': '...   \n",
       "2  {'State': 'IL', 'Initial': 'R.', 'ZIP': '61234...   \n",
       "3  {'No': 'X', '*First Name': 'M I C H A E L', 'D...   \n",
       "4  {'\"Date of Birth (mm/dd/yy)': 'D 8 / I 8 / 0 6...   \n",
       "\n",
       "                                                text  \\\n",
       "0  02-26-21:11:174M; ;11 # 2/ 2 20 ACCIDENT WELLN...   \n",
       "1  PX372696 Policyholder Information: *Last Name ...   \n",
       "2  ACCIDENTAL INJURY CLAIM FORM Failure to comple...   \n",
       "3  if you have additional bills or medical docume...   \n",
       "4  02-10-21:02:42PM; AFLAC Claims ;7149869600 3/ ...   \n",
       "\n",
       "                                            png_path  \\\n",
       "0  doc-digitization-pipeline/AD/P0X024W1_02751999...   \n",
       "1  doc-digitization-pipeline/AD/PX372696_02641791...   \n",
       "2  doc-digitization-pipeline/AD/P0342280_02744692...   \n",
       "3  doc-digitization-pipeline/AD/P0L700T5_02844807...   \n",
       "4  doc-digitization-pipeline/AD/P0P9L5Y4_02716028...   \n",
       "\n",
       "  template_from_interim_logic Unnamed: 7 revised_template   results     score  \n",
       "0                       ahwcf        NaN         ahwcf_v3  ahwcf_v3  0.856593  \n",
       "1                    aicf_pg2        NaN         aicf_pg2  aicf_pg2  0.917460  \n",
       "2                       other        NaN          aicf_v1   aicf_v1  0.911419  \n",
       "3                    aicf_pg2        NaN         aicf_pg2  aicf_pg2  0.931417  \n",
       "4                    aicf_pg2        NaN         aicf_pg2     ptscf  0.781522  "
      ]
     },
     "execution_count": 7,
     "metadata": {},
     "output_type": "execute_result"
    }
   ],
   "source": [
    "filtered_df.head()"
   ]
  },
  {
   "cell_type": "code",
   "execution_count": 8,
   "id": "76b62e8d-7db0-4fc8-989e-094bb9846b27",
   "metadata": {},
   "outputs": [
    {
     "name": "stdout",
     "output_type": "stream",
     "text": [
      "              precision    recall  f1-score   support\n",
      "\n",
      "      acdbcf       1.00      1.00      1.00         1\n",
      "       ahwcf       1.00      0.67      0.80         6\n",
      "    ahwcf_v3       0.33      1.00      0.50         1\n",
      "    ahwcf_v4       0.67      1.00      0.80         2\n",
      "    aicf_pg1       1.00      0.99      0.99       200\n",
      "    aicf_pg2       1.00      0.95      0.98       187\n",
      "     aicf_v1       1.00      0.92      0.96        24\n",
      "     aicf_v2       0.83      1.00      0.91         5\n",
      "     aicf_v3       1.00      1.00      1.00         1\n",
      "      canscr       1.00      1.00      1.00         1\n",
      "      clmapp       1.00      1.00      1.00         3\n",
      "    hicf_pg1       0.00      0.00      0.00         0\n",
      "    hicf_pg2       0.88      1.00      0.93         7\n",
      " hicf_pg2_v2       0.00      0.00      0.00         1\n",
      " init_pg1_v2       1.00      1.00      1.00         1\n",
      "    init_pg3       1.00      1.00      1.00         1\n",
      "       other       1.00      0.67      0.80         3\n",
      "     phystmt       0.00      0.00      0.00         0\n",
      "       ptscf       0.64      0.90      0.75        20\n",
      "       pvbcf       1.00      1.00      1.00        12\n",
      "\n",
      "    accuracy                           0.96       476\n",
      "   macro avg       0.77      0.80      0.77       476\n",
      "weighted avg       0.98      0.96      0.97       476\n",
      "\n"
     ]
    },
    {
     "name": "stderr",
     "output_type": "stream",
     "text": [
      "/opt/conda/lib/python3.8/site-packages/sklearn/metrics/_classification.py:1248: UndefinedMetricWarning: Precision and F-score are ill-defined and being set to 0.0 in labels with no predicted samples. Use `zero_division` parameter to control this behavior.\n",
      "  _warn_prf(average, modifier, msg_start, len(result))\n",
      "/opt/conda/lib/python3.8/site-packages/sklearn/metrics/_classification.py:1248: UndefinedMetricWarning: Recall and F-score are ill-defined and being set to 0.0 in labels with no true samples. Use `zero_division` parameter to control this behavior.\n",
      "  _warn_prf(average, modifier, msg_start, len(result))\n",
      "/opt/conda/lib/python3.8/site-packages/sklearn/metrics/_classification.py:1248: UndefinedMetricWarning: Precision and F-score are ill-defined and being set to 0.0 in labels with no predicted samples. Use `zero_division` parameter to control this behavior.\n",
      "  _warn_prf(average, modifier, msg_start, len(result))\n",
      "/opt/conda/lib/python3.8/site-packages/sklearn/metrics/_classification.py:1248: UndefinedMetricWarning: Recall and F-score are ill-defined and being set to 0.0 in labels with no true samples. Use `zero_division` parameter to control this behavior.\n",
      "  _warn_prf(average, modifier, msg_start, len(result))\n",
      "/opt/conda/lib/python3.8/site-packages/sklearn/metrics/_classification.py:1248: UndefinedMetricWarning: Precision and F-score are ill-defined and being set to 0.0 in labels with no predicted samples. Use `zero_division` parameter to control this behavior.\n",
      "  _warn_prf(average, modifier, msg_start, len(result))\n",
      "/opt/conda/lib/python3.8/site-packages/sklearn/metrics/_classification.py:1248: UndefinedMetricWarning: Recall and F-score are ill-defined and being set to 0.0 in labels with no true samples. Use `zero_division` parameter to control this behavior.\n",
      "  _warn_prf(average, modifier, msg_start, len(result))\n"
     ]
    }
   ],
   "source": [
    "print(classification_report(list(filtered_df['revised_template']),list(filtered_df['results'])))"
   ]
  },
  {
   "cell_type": "code",
   "execution_count": null,
   "id": "cf47cb41-88aa-46f9-8f41-d6a3376a5748",
   "metadata": {},
   "outputs": [],
   "source": [
    "count = 0\n",
    "for n, row in filtered_df.iterrows():\n",
    "    if row['revised_template'] != row['results']:\n",
    "        count+=1\n",
    "        print(n, row['png_path'])\n",
    "print(f\"\\nCount: {count}\")"
   ]
  }
 ],
 "metadata": {
  "instance_type": "ml.t3.medium",
  "kernelspec": {
   "display_name": "Python 3 (Data Science 2.0)",
   "language": "python",
   "name": "python3__SAGEMAKER_INTERNAL__arn:aws:sagemaker:us-east-1:081325390199:image/sagemaker-data-science-38"
  },
  "language_info": {
   "codemirror_mode": {
    "name": "ipython",
    "version": 3
   },
   "file_extension": ".py",
   "mimetype": "text/x-python",
   "name": "python",
   "nbconvert_exporter": "python",
   "pygments_lexer": "ipython3",
   "version": "3.8.13"
  },
  "vscode": {
   "interpreter": {
    "hash": "0ce8880a5e043c100753a6ae600d59b1fe8fbd6948451d92fe57122eed3ca8b0"
   }
  }
 },
 "nbformat": 4,
 "nbformat_minor": 5
}
