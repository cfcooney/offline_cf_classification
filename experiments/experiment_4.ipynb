{
 "cells": [
  {
   "cell_type": "markdown",
   "id": "1fd5fbf3-abd7-4cab-81a1-19545a25cde3",
   "metadata": {},
   "source": [
    "# Experiment 4: Testing on consolidated dataset\n",
    "\n",
    "## The consolidated dataset means that all simular forms are of one classs labels e.g. 'aicf_pg1', 'aicf_v1', 'aicf_v2' and 'aicf_v3' are all labelled 'aicf_pg1'.\n",
    "## This is effectively how CBP works at present. As we still have a finegrained template matrix, we would expect lower F1 score than seen in experiments 1 and 2.\n",
    "\n",
    "## Approach: \n",
    "* Universal Sentence Encoder Large \n",
    "* Template matrix built from text encodings\n",
    "* No text preprocessing\n",
    "* Similarity measured between template and document.\n",
    "* Similarity below 0.7 ruled 'other.\n",
    "\n",
    "## Dataset:\n",
    "* test_data_consolidated_types.xlsx.\n",
    "* 476 documents tested (some not included due to textract problem).\n",
    "* 19 templates used - [acdbcf, ahwcf, ahwcf_v3, ahwcf_v4, aicf_pg1, aicf_pg2, aicf_v1, aicf_v2, aicf_v3, canscr, clmapp, hicf_pg1, hicf_pg2, init_pg1_v2, init_pg3, phystmt, ptscf, pvbcf]\n",
    "* Available [here](\"s3://aaca-ani-experiments-data/aaca-docdig-test/offline_cf_classification/templates/template_images/\") - includes forms not currently considered classes in CBP.\n",
    "\n",
    "# Result: 92% F1 Score - Even here where some predictions are certain to be wrong, we get high accuracy.\n",
    "#         When we force results to be in consolidated for we return to 97% F1 score."
   ]
  },
  {
   "cell_type": "code",
   "execution_count": null,
   "id": "a22df428-2cdf-4ba0-a6b6-a085ebb25dac",
   "metadata": {},
   "outputs": [],
   "source": []
  },
  {
   "cell_type": "code",
   "execution_count": null,
   "id": "e12b2332-23fa-425c-8124-da3cf17835a4",
   "metadata": {},
   "outputs": [],
   "source": [
    "from sklearn.metrics import classification_report\n",
    "from utils import fix_others\n",
    "import pandas as pd"
   ]
  },
  {
   "cell_type": "code",
   "execution_count": null,
   "id": "13159c71-e393-48ff-a189-424ac01b63b7",
   "metadata": {},
   "outputs": [],
   "source": []
  },
  {
   "cell_type": "code",
   "execution_count": 5,
   "id": "01e97b32-2bcf-4bf1-8180-6316cd78204d",
   "metadata": {},
   "outputs": [],
   "source": [
    "results_df = pd.read_excel(\"data/results/experiment_1.xlsx\", index_col=0, engine='openpyxl')"
   ]
  },
  {
   "cell_type": "code",
   "execution_count": 6,
   "id": "0df354ce-a245-4f26-b613-7e1363f20bb9",
   "metadata": {},
   "outputs": [
    {
     "data": {
      "text/html": [
       "<div>\n",
       "<style scoped>\n",
       "    .dataframe tbody tr th:only-of-type {\n",
       "        vertical-align: middle;\n",
       "    }\n",
       "\n",
       "    .dataframe tbody tr th {\n",
       "        vertical-align: top;\n",
       "    }\n",
       "\n",
       "    .dataframe thead th {\n",
       "        text-align: right;\n",
       "    }\n",
       "</style>\n",
       "<table border=\"1\" class=\"dataframe\">\n",
       "  <thead>\n",
       "    <tr style=\"text-align: right;\">\n",
       "      <th></th>\n",
       "      <th>json</th>\n",
       "      <th>template</th>\n",
       "      <th>textarct_key_value_dictionary</th>\n",
       "      <th>text</th>\n",
       "      <th>png_path</th>\n",
       "      <th>template_from_interim_logic</th>\n",
       "      <th>Unnamed: 7</th>\n",
       "      <th>revised_template</th>\n",
       "      <th>results</th>\n",
       "      <th>score</th>\n",
       "    </tr>\n",
       "  </thead>\n",
       "  <tbody>\n",
       "    <tr>\n",
       "      <th>0</th>\n",
       "      <td>doc-digitization-pipeline/AD/P0X024W1_02751999...</td>\n",
       "      <td>ahwcf</td>\n",
       "      <td>{'ZIP:': '3 2 5 0 4', 'Primary Pollcyholder': ...</td>\n",
       "      <td>02-26-21:11:174M; ;11 # 2/ 2 20 ACCIDENT WELLN...</td>\n",
       "      <td>doc-digitization-pipeline/AD/P0X024W1_02751999...</td>\n",
       "      <td>ahwcf</td>\n",
       "      <td>NaN</td>\n",
       "      <td>ahwcf_v3</td>\n",
       "      <td>ahwcf_v3</td>\n",
       "      <td>0.856593</td>\n",
       "    </tr>\n",
       "    <tr>\n",
       "      <th>1</th>\n",
       "      <td>doc-digitization-pipeline/AD/PX372696_02641791...</td>\n",
       "      <td>aicf_pg2</td>\n",
       "      <td>{'*Date of Birth (mm/dd/yy)': '/ /', 'DATE': '...</td>\n",
       "      <td>PX372696 Policyholder Information: *Last Name ...</td>\n",
       "      <td>doc-digitization-pipeline/AD/PX372696_02641791...</td>\n",
       "      <td>aicf_pg2</td>\n",
       "      <td>NaN</td>\n",
       "      <td>aicf_pg2</td>\n",
       "      <td>aicf_pg2</td>\n",
       "      <td>0.917460</td>\n",
       "    </tr>\n",
       "  </tbody>\n",
       "</table>\n",
       "</div>"
      ],
      "text/plain": [
       "                                                json  template  \\\n",
       "0  doc-digitization-pipeline/AD/P0X024W1_02751999...     ahwcf   \n",
       "1  doc-digitization-pipeline/AD/PX372696_02641791...  aicf_pg2   \n",
       "\n",
       "                       textarct_key_value_dictionary  \\\n",
       "0  {'ZIP:': '3 2 5 0 4', 'Primary Pollcyholder': ...   \n",
       "1  {'*Date of Birth (mm/dd/yy)': '/ /', 'DATE': '...   \n",
       "\n",
       "                                                text  \\\n",
       "0  02-26-21:11:174M; ;11 # 2/ 2 20 ACCIDENT WELLN...   \n",
       "1  PX372696 Policyholder Information: *Last Name ...   \n",
       "\n",
       "                                            png_path  \\\n",
       "0  doc-digitization-pipeline/AD/P0X024W1_02751999...   \n",
       "1  doc-digitization-pipeline/AD/PX372696_02641791...   \n",
       "\n",
       "  template_from_interim_logic Unnamed: 7 revised_template   results     score  \n",
       "0                       ahwcf        NaN         ahwcf_v3  ahwcf_v3  0.856593  \n",
       "1                    aicf_pg2        NaN         aicf_pg2  aicf_pg2  0.917460  "
      ]
     },
     "execution_count": 6,
     "metadata": {},
     "output_type": "execute_result"
    }
   ],
   "source": [
    "results_df.head(2)"
   ]
  },
  {
   "cell_type": "code",
   "execution_count": 7,
   "id": "ad7c8a56-4c2e-41e2-b105-0dfd48be9a40",
   "metadata": {},
   "outputs": [],
   "source": [
    "labels_df = pd.read_excel(\"data/test_data_consolidated_types.xlsx\", index_col=0, engine='openpyxl')"
   ]
  },
  {
   "cell_type": "code",
   "execution_count": 8,
   "id": "c01d8029-babe-4287-ae52-45599f72022c",
   "metadata": {},
   "outputs": [
    {
     "data": {
      "text/html": [
       "<div>\n",
       "<style scoped>\n",
       "    .dataframe tbody tr th:only-of-type {\n",
       "        vertical-align: middle;\n",
       "    }\n",
       "\n",
       "    .dataframe tbody tr th {\n",
       "        vertical-align: top;\n",
       "    }\n",
       "\n",
       "    .dataframe thead th {\n",
       "        text-align: right;\n",
       "    }\n",
       "</style>\n",
       "<table border=\"1\" class=\"dataframe\">\n",
       "  <thead>\n",
       "    <tr style=\"text-align: right;\">\n",
       "      <th></th>\n",
       "      <th>json</th>\n",
       "      <th>template</th>\n",
       "      <th>textarct_key_value_dictionary</th>\n",
       "      <th>text</th>\n",
       "      <th>png_path</th>\n",
       "      <th>template_from_interim_logic</th>\n",
       "      <th>Unnamed: 7</th>\n",
       "      <th>revised_template</th>\n",
       "    </tr>\n",
       "  </thead>\n",
       "  <tbody>\n",
       "    <tr>\n",
       "      <th>0</th>\n",
       "      <td>doc-digitization-pipeline/AD/P0X024W1_02751999...</td>\n",
       "      <td>ahwcf</td>\n",
       "      <td>{'ZIP:': '3 2 5 0 4', 'Primary Pollcyholder': ...</td>\n",
       "      <td>02-26-21:11:174M; ;11 # 2/ 2 20 ACCIDENT WELLN...</td>\n",
       "      <td>doc-digitization-pipeline/AD/P0X024W1_02751999...</td>\n",
       "      <td>ahwcf</td>\n",
       "      <td>NaN</td>\n",
       "      <td>ahwcf</td>\n",
       "    </tr>\n",
       "    <tr>\n",
       "      <th>1</th>\n",
       "      <td>doc-digitization-pipeline/AD/PX372696_02641791...</td>\n",
       "      <td>aicf_pg2</td>\n",
       "      <td>{'*Date of Birth (mm/dd/yy)': '/ /', 'DATE': '...</td>\n",
       "      <td>PX372696 Policyholder Information: *Last Name ...</td>\n",
       "      <td>doc-digitization-pipeline/AD/PX372696_02641791...</td>\n",
       "      <td>aicf_pg2</td>\n",
       "      <td>NaN</td>\n",
       "      <td>aicf_pg2</td>\n",
       "    </tr>\n",
       "  </tbody>\n",
       "</table>\n",
       "</div>"
      ],
      "text/plain": [
       "                                                json  template  \\\n",
       "0  doc-digitization-pipeline/AD/P0X024W1_02751999...     ahwcf   \n",
       "1  doc-digitization-pipeline/AD/PX372696_02641791...  aicf_pg2   \n",
       "\n",
       "                       textarct_key_value_dictionary  \\\n",
       "0  {'ZIP:': '3 2 5 0 4', 'Primary Pollcyholder': ...   \n",
       "1  {'*Date of Birth (mm/dd/yy)': '/ /', 'DATE': '...   \n",
       "\n",
       "                                                text  \\\n",
       "0  02-26-21:11:174M; ;11 # 2/ 2 20 ACCIDENT WELLN...   \n",
       "1  PX372696 Policyholder Information: *Last Name ...   \n",
       "\n",
       "                                            png_path  \\\n",
       "0  doc-digitization-pipeline/AD/P0X024W1_02751999...   \n",
       "1  doc-digitization-pipeline/AD/PX372696_02641791...   \n",
       "\n",
       "  template_from_interim_logic Unnamed: 7 revised_template  \n",
       "0                       ahwcf        NaN            ahwcf  \n",
       "1                    aicf_pg2        NaN         aicf_pg2  "
      ]
     },
     "execution_count": 8,
     "metadata": {},
     "output_type": "execute_result"
    }
   ],
   "source": [
    "labels_df.head(2)"
   ]
  },
  {
   "cell_type": "code",
   "execution_count": 20,
   "id": "f126d249-6836-416a-9415-fb334fbff67f",
   "metadata": {},
   "outputs": [
    {
     "data": {
      "text/plain": [
       "aicf_pg1    235\n",
       "aicf_pg2    192\n",
       "ptscf        21\n",
       "pvbcf        12\n",
       "ahwcf        11\n",
       "other        11\n",
       "hicf_pg2      7\n",
       "init_pg3      1\n",
       "init_pg1      1\n",
       "Name: revised_template, dtype: int64"
      ]
     },
     "execution_count": 20,
     "metadata": {},
     "output_type": "execute_result"
    }
   ],
   "source": [
    "labels_df['revised_template'].value_counts()"
   ]
  },
  {
   "cell_type": "code",
   "execution_count": 9,
   "id": "3da01e02-2441-4c52-b0f5-fef8160cd165",
   "metadata": {},
   "outputs": [
    {
     "data": {
      "text/html": [
       "<div>\n",
       "<style scoped>\n",
       "    .dataframe tbody tr th:only-of-type {\n",
       "        vertical-align: middle;\n",
       "    }\n",
       "\n",
       "    .dataframe tbody tr th {\n",
       "        vertical-align: top;\n",
       "    }\n",
       "\n",
       "    .dataframe thead th {\n",
       "        text-align: right;\n",
       "    }\n",
       "</style>\n",
       "<table border=\"1\" class=\"dataframe\">\n",
       "  <thead>\n",
       "    <tr style=\"text-align: right;\">\n",
       "      <th></th>\n",
       "      <th>json</th>\n",
       "      <th>template</th>\n",
       "      <th>textarct_key_value_dictionary</th>\n",
       "      <th>text</th>\n",
       "      <th>png_path</th>\n",
       "      <th>template_from_interim_logic</th>\n",
       "      <th>Unnamed: 7</th>\n",
       "      <th>revised_template</th>\n",
       "      <th>results</th>\n",
       "      <th>score</th>\n",
       "      <th>labels</th>\n",
       "    </tr>\n",
       "  </thead>\n",
       "  <tbody>\n",
       "    <tr>\n",
       "      <th>0</th>\n",
       "      <td>doc-digitization-pipeline/AD/P0X024W1_02751999...</td>\n",
       "      <td>ahwcf</td>\n",
       "      <td>{'ZIP:': '3 2 5 0 4', 'Primary Pollcyholder': ...</td>\n",
       "      <td>02-26-21:11:174M; ;11 # 2/ 2 20 ACCIDENT WELLN...</td>\n",
       "      <td>doc-digitization-pipeline/AD/P0X024W1_02751999...</td>\n",
       "      <td>ahwcf</td>\n",
       "      <td>NaN</td>\n",
       "      <td>ahwcf_v3</td>\n",
       "      <td>ahwcf_v3</td>\n",
       "      <td>0.856593</td>\n",
       "      <td>ahwcf</td>\n",
       "    </tr>\n",
       "    <tr>\n",
       "      <th>1</th>\n",
       "      <td>doc-digitization-pipeline/AD/PX372696_02641791...</td>\n",
       "      <td>aicf_pg2</td>\n",
       "      <td>{'*Date of Birth (mm/dd/yy)': '/ /', 'DATE': '...</td>\n",
       "      <td>PX372696 Policyholder Information: *Last Name ...</td>\n",
       "      <td>doc-digitization-pipeline/AD/PX372696_02641791...</td>\n",
       "      <td>aicf_pg2</td>\n",
       "      <td>NaN</td>\n",
       "      <td>aicf_pg2</td>\n",
       "      <td>aicf_pg2</td>\n",
       "      <td>0.917460</td>\n",
       "      <td>aicf_pg2</td>\n",
       "    </tr>\n",
       "  </tbody>\n",
       "</table>\n",
       "</div>"
      ],
      "text/plain": [
       "                                                json  template  \\\n",
       "0  doc-digitization-pipeline/AD/P0X024W1_02751999...     ahwcf   \n",
       "1  doc-digitization-pipeline/AD/PX372696_02641791...  aicf_pg2   \n",
       "\n",
       "                       textarct_key_value_dictionary  \\\n",
       "0  {'ZIP:': '3 2 5 0 4', 'Primary Pollcyholder': ...   \n",
       "1  {'*Date of Birth (mm/dd/yy)': '/ /', 'DATE': '...   \n",
       "\n",
       "                                                text  \\\n",
       "0  02-26-21:11:174M; ;11 # 2/ 2 20 ACCIDENT WELLN...   \n",
       "1  PX372696 Policyholder Information: *Last Name ...   \n",
       "\n",
       "                                            png_path  \\\n",
       "0  doc-digitization-pipeline/AD/P0X024W1_02751999...   \n",
       "1  doc-digitization-pipeline/AD/PX372696_02641791...   \n",
       "\n",
       "  template_from_interim_logic Unnamed: 7 revised_template   results     score  \\\n",
       "0                       ahwcf        NaN         ahwcf_v3  ahwcf_v3  0.856593   \n",
       "1                    aicf_pg2        NaN         aicf_pg2  aicf_pg2  0.917460   \n",
       "\n",
       "     labels  \n",
       "0     ahwcf  \n",
       "1  aicf_pg2  "
      ]
     },
     "execution_count": 9,
     "metadata": {},
     "output_type": "execute_result"
    }
   ],
   "source": [
    "results_df['labels'] = labels_df['revised_template'].values\n",
    "results_df.head(2)"
   ]
  },
  {
   "cell_type": "code",
   "execution_count": 10,
   "id": "e156327d-2689-4557-addd-ae8bfaad9d02",
   "metadata": {},
   "outputs": [],
   "source": [
    "filtered_df = results_df[results_df['results'] != -100]"
   ]
  },
  {
   "cell_type": "code",
   "execution_count": 11,
   "id": "778226e9-ca26-4ea4-965b-bb6c6ae34fc1",
   "metadata": {},
   "outputs": [
    {
     "name": "stderr",
     "output_type": "stream",
     "text": [
      "/tmp/ipykernel_1390/1466064053.py:1: SettingWithCopyWarning: \n",
      "A value is trying to be set on a copy of a slice from a DataFrame.\n",
      "Try using .loc[row_indexer,col_indexer] = value instead\n",
      "\n",
      "See the caveats in the documentation: https://pandas.pydata.org/pandas-docs/stable/user_guide/indexing.html#returning-a-view-versus-a-copy\n",
      "  filtered_df['results'] = filtered_df.apply(lambda row: fix_others(row), axis=1)\n"
     ]
    }
   ],
   "source": [
    "filtered_df['results'] = filtered_df.apply(lambda row: fix_others(row), axis=1)"
   ]
  },
  {
   "cell_type": "markdown",
   "id": "28551989-0e2b-4682-ad22-5035dc06c391",
   "metadata": {},
   "source": [
    "# Support zeros below are all associted with 'classes' not in the test set. We know that this is not really the ground truth but indicates good performance "
   ]
  },
  {
   "cell_type": "code",
   "execution_count": 13,
   "id": "47f9e9dc-00a3-448d-83be-f58c7ea6ed57",
   "metadata": {},
   "outputs": [
    {
     "name": "stdout",
     "output_type": "stream",
     "text": [
      "              precision    recall  f1-score   support\n",
      "\n",
      "      acdbcf       0.00      0.00      0.00         0\n",
      "       ahwcf       1.00      0.44      0.62         9\n",
      "    ahwcf_v3       0.00      0.00      0.00         0\n",
      "    ahwcf_v4       0.00      0.00      0.00         0\n",
      "    aicf_pg1       1.00      0.86      0.93       230\n",
      "    aicf_pg2       1.00      0.95      0.98       187\n",
      "     aicf_v1       0.00      0.00      0.00         0\n",
      "     aicf_v2       0.00      0.00      0.00         0\n",
      "     aicf_v3       0.00      0.00      0.00         0\n",
      "      canscr       0.00      0.00      0.00         0\n",
      "      clmapp       0.00      0.00      0.00         0\n",
      "    hicf_pg1       0.00      0.00      0.00         0\n",
      "    hicf_pg2       0.88      1.00      0.93         7\n",
      "    init_pg1       0.00      0.00      0.00         1\n",
      " init_pg1_v2       0.00      0.00      0.00         0\n",
      "    init_pg3       1.00      1.00      1.00         1\n",
      "       other       1.00      0.22      0.36         9\n",
      "     phystmt       0.00      0.00      0.00         0\n",
      "       ptscf       0.64      0.90      0.75        20\n",
      "       pvbcf       1.00      1.00      1.00        12\n",
      "\n",
      "    accuracy                           0.88       476\n",
      "   macro avg       0.38      0.32      0.33       476\n",
      "weighted avg       0.98      0.88      0.92       476\n",
      "\n"
     ]
    },
    {
     "name": "stderr",
     "output_type": "stream",
     "text": [
      "/opt/conda/lib/python3.8/site-packages/sklearn/metrics/_classification.py:1248: UndefinedMetricWarning: Precision and F-score are ill-defined and being set to 0.0 in labels with no predicted samples. Use `zero_division` parameter to control this behavior.\n",
      "  _warn_prf(average, modifier, msg_start, len(result))\n",
      "/opt/conda/lib/python3.8/site-packages/sklearn/metrics/_classification.py:1248: UndefinedMetricWarning: Recall and F-score are ill-defined and being set to 0.0 in labels with no true samples. Use `zero_division` parameter to control this behavior.\n",
      "  _warn_prf(average, modifier, msg_start, len(result))\n",
      "/opt/conda/lib/python3.8/site-packages/sklearn/metrics/_classification.py:1248: UndefinedMetricWarning: Precision and F-score are ill-defined and being set to 0.0 in labels with no predicted samples. Use `zero_division` parameter to control this behavior.\n",
      "  _warn_prf(average, modifier, msg_start, len(result))\n",
      "/opt/conda/lib/python3.8/site-packages/sklearn/metrics/_classification.py:1248: UndefinedMetricWarning: Recall and F-score are ill-defined and being set to 0.0 in labels with no true samples. Use `zero_division` parameter to control this behavior.\n",
      "  _warn_prf(average, modifier, msg_start, len(result))\n",
      "/opt/conda/lib/python3.8/site-packages/sklearn/metrics/_classification.py:1248: UndefinedMetricWarning: Precision and F-score are ill-defined and being set to 0.0 in labels with no predicted samples. Use `zero_division` parameter to control this behavior.\n",
      "  _warn_prf(average, modifier, msg_start, len(result))\n",
      "/opt/conda/lib/python3.8/site-packages/sklearn/metrics/_classification.py:1248: UndefinedMetricWarning: Recall and F-score are ill-defined and being set to 0.0 in labels with no true samples. Use `zero_division` parameter to control this behavior.\n",
      "  _warn_prf(average, modifier, msg_start, len(result))\n"
     ]
    }
   ],
   "source": [
    "print(classification_report(list(filtered_df['labels']),list(filtered_df['results'])))"
   ]
  },
  {
   "cell_type": "markdown",
   "id": "6ba1dd1c-2cf0-43c0-a3d6-841b76638478",
   "metadata": {},
   "source": [
    "# Same results, but now force similar forms to be of the same class (this is effectively what currently happens in CBP)\n",
    "\n",
    "# Once again, we reach 0.97 f1. It seems likely that this approach is an improvement on CBP"
   ]
  },
  {
   "cell_type": "code",
   "execution_count": 14,
   "id": "1688c7c0-af1e-4654-a431-9417c85fe000",
   "metadata": {},
   "outputs": [],
   "source": [
    "supported_labels = ['ahwcf', 'aicf_pg1', 'aicf_pg2', 'hicf_pg1', 'hicf_pg2', 'init_pg1', 'init_pg3', 'ptscf', 'pvbcf', 'other']"
   ]
  },
  {
   "cell_type": "code",
   "execution_count": 27,
   "id": "576e97c0-9d97-4c9d-9eae-b85a5f151a8a",
   "metadata": {},
   "outputs": [],
   "source": [
    "def for_supported_labels(row, supported_labels):\n",
    "    \"\"\"Convert predictions with low similarity to 'other' labels.\"\"\"\n",
    "    if row['results'] in ['aicf_v1', 'aicf_v2', 'aicf_v3']:\n",
    "        return 'aicf_pg1'\n",
    "    elif row['results'] in ['ahwcf_v3', 'ahwcf_v4']:\n",
    "        return 'ahwcf'\n",
    "    elif row['results'] in ['acdbcf', 'canscr', 'clmapp', 'phystmt']:\n",
    "        return 'other'\n",
    "    elif row['results'] in ['init_pg1_v2']:\n",
    "        return 'init_pg1'\n",
    "    else: \n",
    "        return row['results']"
   ]
  },
  {
   "cell_type": "code",
   "execution_count": 28,
   "id": "49e84c26-4cf5-421f-9cb2-c0de9f9cbcbb",
   "metadata": {},
   "outputs": [
    {
     "name": "stderr",
     "output_type": "stream",
     "text": [
      "/tmp/ipykernel_1390/3222971787.py:1: SettingWithCopyWarning: \n",
      "A value is trying to be set on a copy of a slice from a DataFrame.\n",
      "Try using .loc[row_indexer,col_indexer] = value instead\n",
      "\n",
      "See the caveats in the documentation: https://pandas.pydata.org/pandas-docs/stable/user_guide/indexing.html#returning-a-view-versus-a-copy\n",
      "  filtered_df['supported_results'] = filtered_df.apply(lambda row: for_supported_labels(row, supported_labels), axis=1)\n"
     ]
    }
   ],
   "source": [
    "filtered_df['supported_results'] = filtered_df.apply(lambda row: for_supported_labels(row, supported_labels), axis=1)"
   ]
  },
  {
   "cell_type": "code",
   "execution_count": 29,
   "id": "02a01546-6215-42f4-8e8a-57a784d65cc7",
   "metadata": {},
   "outputs": [
    {
     "name": "stdout",
     "output_type": "stream",
     "text": [
      "              precision    recall  f1-score   support\n",
      "\n",
      "       ahwcf       0.90      1.00      0.95         9\n",
      "    aicf_pg1       1.00      0.99      0.99       230\n",
      "    aicf_pg2       1.00      0.95      0.98       187\n",
      "    hicf_pg1       0.00      0.00      0.00         0\n",
      "    hicf_pg2       0.88      1.00      0.93         7\n",
      "    init_pg1       1.00      1.00      1.00         1\n",
      "    init_pg3       1.00      1.00      1.00         1\n",
      "       other       0.78      0.78      0.78         9\n",
      "       ptscf       0.64      0.90      0.75        20\n",
      "       pvbcf       1.00      1.00      1.00        12\n",
      "\n",
      "    accuracy                           0.97       476\n",
      "   macro avg       0.82      0.86      0.84       476\n",
      "weighted avg       0.98      0.97      0.97       476\n",
      "\n"
     ]
    },
    {
     "name": "stderr",
     "output_type": "stream",
     "text": [
      "/opt/conda/lib/python3.8/site-packages/sklearn/metrics/_classification.py:1248: UndefinedMetricWarning: Recall and F-score are ill-defined and being set to 0.0 in labels with no true samples. Use `zero_division` parameter to control this behavior.\n",
      "  _warn_prf(average, modifier, msg_start, len(result))\n",
      "/opt/conda/lib/python3.8/site-packages/sklearn/metrics/_classification.py:1248: UndefinedMetricWarning: Recall and F-score are ill-defined and being set to 0.0 in labels with no true samples. Use `zero_division` parameter to control this behavior.\n",
      "  _warn_prf(average, modifier, msg_start, len(result))\n",
      "/opt/conda/lib/python3.8/site-packages/sklearn/metrics/_classification.py:1248: UndefinedMetricWarning: Recall and F-score are ill-defined and being set to 0.0 in labels with no true samples. Use `zero_division` parameter to control this behavior.\n",
      "  _warn_prf(average, modifier, msg_start, len(result))\n"
     ]
    }
   ],
   "source": [
    "print(classification_report(list(filtered_df['labels']),list(filtered_df['supported_results'])))"
   ]
  },
  {
   "cell_type": "code",
   "execution_count": null,
   "id": "efe27d72-bb03-4800-8fb0-a950ae485ee8",
   "metadata": {},
   "outputs": [],
   "source": []
  }
 ],
 "metadata": {
  "instance_type": "ml.t3.medium",
  "kernelspec": {
   "display_name": "Python 3 (Data Science 2.0)",
   "language": "python",
   "name": "python3__SAGEMAKER_INTERNAL__arn:aws:sagemaker:us-east-1:081325390199:image/sagemaker-data-science-38"
  },
  "language_info": {
   "codemirror_mode": {
    "name": "ipython",
    "version": 3
   },
   "file_extension": ".py",
   "mimetype": "text/x-python",
   "name": "python",
   "nbconvert_exporter": "python",
   "pygments_lexer": "ipython3",
   "version": "3.8.13"
  }
 },
 "nbformat": 4,
 "nbformat_minor": 5
}
