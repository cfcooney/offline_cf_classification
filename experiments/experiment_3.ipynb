{
 "cells": [
  {
   "cell_type": "markdown",
   "id": "68f2373c-a71f-499e-9c5e-88a9d074e719",
   "metadata": {},
   "source": [
    "# Experiment 3: HANDWRITING REMOVED FROM TEXT\n",
    "## Approach: \n",
    "* Universal Sentence Encoder Large \n",
    "* Template matrix built from text encodings - HANDWRITING IS REMOVED\n",
    "* No text preprocessing\n",
    "* Similarity measured between template and document.\n",
    "* Similarity below 0.7 ruled 'other.\n",
    "\n",
    "## Dataset:\n",
    "* interim_output_template_500_documents_rev4.xlsx.\n",
    "* 476 documents tested (some not included due to textract problem).\n",
    "* 19 templates used - [acdbcf, ahwcf, ahwcf_v3, ahwcf_v4, aicf_pg1, aicf_pg2, aicf_v1, aicf_v2, aicf_v3, canscr, clmapp, hicf_pg1, hicf_pg2, init_pg1_v2, init_pg3, phystmt, ptscf, pvbcf]\n",
    "* Available [here](\"s3://aaca-ani-experiments-data/aaca-docdig-test/offline_cf_classification/templates/template_images/\") - includes forms not currently considered classes in CBP.\n",
    "\n",
    "# Result: 97% F1 Score"
   ]
  },
  {
   "cell_type": "code",
   "execution_count": 2,
   "id": "67d9cdea-8d32-42e7-a8fd-cb40adcca491",
   "metadata": {},
   "outputs": [],
   "source": [
    "#!pip install -r requirements.txt"
   ]
  },
  {
   "cell_type": "code",
   "execution_count": null,
   "id": "c672b8ac-b774-4bdf-b5df-02988e79f9ff",
   "metadata": {},
   "outputs": [],
   "source": [
    "%run run_get_text_for_test.py"
   ]
  },
  {
   "cell_type": "code",
   "execution_count": null,
   "id": "7abd89ea-346d-4bf2-8e20-5c3495933f72",
   "metadata": {},
   "outputs": [],
   "source": [
    "%run run_on_test_set.py"
   ]
  },
  {
   "cell_type": "code",
   "execution_count": 5,
   "id": "9cda3054-4d69-466d-bcf3-272e880ad467",
   "metadata": {},
   "outputs": [],
   "source": [
    "from sklearn.metrics import classification_report\n",
    "from utils import fix_others\n",
    "import pandas as pd"
   ]
  },
  {
   "cell_type": "code",
   "execution_count": 6,
   "id": "af99c009-164a-4594-92c5-7cb1bfc06c91",
   "metadata": {},
   "outputs": [
    {
     "data": {
      "text/html": [
       "<div>\n",
       "<style scoped>\n",
       "    .dataframe tbody tr th:only-of-type {\n",
       "        vertical-align: middle;\n",
       "    }\n",
       "\n",
       "    .dataframe tbody tr th {\n",
       "        vertical-align: top;\n",
       "    }\n",
       "\n",
       "    .dataframe thead th {\n",
       "        text-align: right;\n",
       "    }\n",
       "</style>\n",
       "<table border=\"1\" class=\"dataframe\">\n",
       "  <thead>\n",
       "    <tr style=\"text-align: right;\">\n",
       "      <th></th>\n",
       "      <th>json</th>\n",
       "      <th>template</th>\n",
       "      <th>textarct_key_value_dictionary</th>\n",
       "      <th>text</th>\n",
       "      <th>png_path</th>\n",
       "      <th>template_from_interim_logic</th>\n",
       "      <th>Unnamed: 7</th>\n",
       "      <th>revised_template</th>\n",
       "      <th>results</th>\n",
       "      <th>score</th>\n",
       "    </tr>\n",
       "  </thead>\n",
       "  <tbody>\n",
       "    <tr>\n",
       "      <th>0</th>\n",
       "      <td>doc-digitization-pipeline/AD/P0X024W1_02751999...</td>\n",
       "      <td>ahwcf</td>\n",
       "      <td>{'ZIP:': '3 2 5 0 4', 'Primary Pollcyholder': ...</td>\n",
       "      <td>02-26-21:11:174M; ;11 # 2/ 2 20 ACCIDENT WELLN...</td>\n",
       "      <td>doc-digitization-pipeline/AD/P0X024W1_02751999...</td>\n",
       "      <td>ahwcf</td>\n",
       "      <td>NaN</td>\n",
       "      <td>ahwcf_v3</td>\n",
       "      <td>ahwcf_v3</td>\n",
       "      <td>0.864067</td>\n",
       "    </tr>\n",
       "    <tr>\n",
       "      <th>1</th>\n",
       "      <td>doc-digitization-pipeline/AD/PX372696_02641791...</td>\n",
       "      <td>aicf_pg2</td>\n",
       "      <td>{'*Date of Birth (mm/dd/yy)': '/ /', 'DATE': '...</td>\n",
       "      <td>PX372696 Policyholder Information: *Last Name ...</td>\n",
       "      <td>doc-digitization-pipeline/AD/PX372696_02641791...</td>\n",
       "      <td>aicf_pg2</td>\n",
       "      <td>NaN</td>\n",
       "      <td>aicf_pg2</td>\n",
       "      <td>aicf_pg2</td>\n",
       "      <td>0.933307</td>\n",
       "    </tr>\n",
       "    <tr>\n",
       "      <th>2</th>\n",
       "      <td>doc-digitization-pipeline/AD/P0342280_02744692...</td>\n",
       "      <td>aicf_v1</td>\n",
       "      <td>{'State': 'IL', 'Initial': 'R.', 'ZIP': '61234...</td>\n",
       "      <td>ACCIDENTAL INJURY CLAIM FORM Failure to comple...</td>\n",
       "      <td>doc-digitization-pipeline/AD/P0342280_02744692...</td>\n",
       "      <td>other</td>\n",
       "      <td>NaN</td>\n",
       "      <td>aicf_v1</td>\n",
       "      <td>aicf_v2</td>\n",
       "      <td>0.918813</td>\n",
       "    </tr>\n",
       "    <tr>\n",
       "      <th>3</th>\n",
       "      <td>doc-digitization-pipeline/AD/P0L700T5_02844807...</td>\n",
       "      <td>aicf_pg2</td>\n",
       "      <td>{'No': 'X', '*First Name': 'M I C H A E L', 'D...</td>\n",
       "      <td>if you have additional bills or medical docume...</td>\n",
       "      <td>doc-digitization-pipeline/AD/P0L700T5_02844807...</td>\n",
       "      <td>aicf_pg2</td>\n",
       "      <td>NaN</td>\n",
       "      <td>aicf_pg2</td>\n",
       "      <td>aicf_pg2</td>\n",
       "      <td>0.933457</td>\n",
       "    </tr>\n",
       "    <tr>\n",
       "      <th>4</th>\n",
       "      <td>doc-digitization-pipeline/AD/P0P9L5Y4_02716028...</td>\n",
       "      <td>aicf_pg2</td>\n",
       "      <td>{'\"Date of Birth (mm/dd/yy)': 'D 8 / I 8 / 0 6...</td>\n",
       "      <td>02-10-21:02:42PM; AFLAC Claims ;7149869600 3/ ...</td>\n",
       "      <td>doc-digitization-pipeline/AD/P0P9L5Y4_02716028...</td>\n",
       "      <td>aicf_pg2</td>\n",
       "      <td>NaN</td>\n",
       "      <td>aicf_pg2</td>\n",
       "      <td>ptscf</td>\n",
       "      <td>0.782006</td>\n",
       "    </tr>\n",
       "  </tbody>\n",
       "</table>\n",
       "</div>"
      ],
      "text/plain": [
       "                                                json  template  \\\n",
       "0  doc-digitization-pipeline/AD/P0X024W1_02751999...     ahwcf   \n",
       "1  doc-digitization-pipeline/AD/PX372696_02641791...  aicf_pg2   \n",
       "2  doc-digitization-pipeline/AD/P0342280_02744692...   aicf_v1   \n",
       "3  doc-digitization-pipeline/AD/P0L700T5_02844807...  aicf_pg2   \n",
       "4  doc-digitization-pipeline/AD/P0P9L5Y4_02716028...  aicf_pg2   \n",
       "\n",
       "                       textarct_key_value_dictionary  \\\n",
       "0  {'ZIP:': '3 2 5 0 4', 'Primary Pollcyholder': ...   \n",
       "1  {'*Date of Birth (mm/dd/yy)': '/ /', 'DATE': '...   \n",
       "2  {'State': 'IL', 'Initial': 'R.', 'ZIP': '61234...   \n",
       "3  {'No': 'X', '*First Name': 'M I C H A E L', 'D...   \n",
       "4  {'\"Date of Birth (mm/dd/yy)': 'D 8 / I 8 / 0 6...   \n",
       "\n",
       "                                                text  \\\n",
       "0  02-26-21:11:174M; ;11 # 2/ 2 20 ACCIDENT WELLN...   \n",
       "1  PX372696 Policyholder Information: *Last Name ...   \n",
       "2  ACCIDENTAL INJURY CLAIM FORM Failure to comple...   \n",
       "3  if you have additional bills or medical docume...   \n",
       "4  02-10-21:02:42PM; AFLAC Claims ;7149869600 3/ ...   \n",
       "\n",
       "                                            png_path  \\\n",
       "0  doc-digitization-pipeline/AD/P0X024W1_02751999...   \n",
       "1  doc-digitization-pipeline/AD/PX372696_02641791...   \n",
       "2  doc-digitization-pipeline/AD/P0342280_02744692...   \n",
       "3  doc-digitization-pipeline/AD/P0L700T5_02844807...   \n",
       "4  doc-digitization-pipeline/AD/P0P9L5Y4_02716028...   \n",
       "\n",
       "  template_from_interim_logic Unnamed: 7 revised_template   results     score  \n",
       "0                       ahwcf        NaN         ahwcf_v3  ahwcf_v3  0.864067  \n",
       "1                    aicf_pg2        NaN         aicf_pg2  aicf_pg2  0.933307  \n",
       "2                       other        NaN          aicf_v1   aicf_v2  0.918813  \n",
       "3                    aicf_pg2        NaN         aicf_pg2  aicf_pg2  0.933457  \n",
       "4                    aicf_pg2        NaN         aicf_pg2     ptscf  0.782006  "
      ]
     },
     "execution_count": 6,
     "metadata": {},
     "output_type": "execute_result"
    }
   ],
   "source": [
    "df = pd.read_excel('data/results/experiment_3.xlsx', index_col=0, engine='openpyxl')\n",
    "df.head()"
   ]
  },
  {
   "cell_type": "code",
   "execution_count": 7,
   "id": "fc1d2a0d-07e4-4f93-a3b9-aa8c45a323f4",
   "metadata": {},
   "outputs": [],
   "source": [
    "filtered_df = df[df['results'] != -100]"
   ]
  },
  {
   "cell_type": "code",
   "execution_count": 8,
   "id": "ea6b5b64-15b9-4185-94ab-c98dc014a39b",
   "metadata": {},
   "outputs": [
    {
     "name": "stderr",
     "output_type": "stream",
     "text": [
      "/tmp/ipykernel_1304/1466064053.py:1: SettingWithCopyWarning: \n",
      "A value is trying to be set on a copy of a slice from a DataFrame.\n",
      "Try using .loc[row_indexer,col_indexer] = value instead\n",
      "\n",
      "See the caveats in the documentation: https://pandas.pydata.org/pandas-docs/stable/user_guide/indexing.html#returning-a-view-versus-a-copy\n",
      "  filtered_df['results'] = filtered_df.apply(lambda row: fix_others(row), axis=1)\n"
     ]
    }
   ],
   "source": [
    "filtered_df['results'] = filtered_df.apply(lambda row: fix_others(row), axis=1)"
   ]
  },
  {
   "cell_type": "code",
   "execution_count": 9,
   "id": "90df0aec-135d-4b7c-9b94-6a9fc602ad54",
   "metadata": {},
   "outputs": [
    {
     "name": "stdout",
     "output_type": "stream",
     "text": [
      "              precision    recall  f1-score   support\n",
      "\n",
      "      acdbcf       1.00      1.00      1.00         1\n",
      "       ahwcf       1.00      0.83      0.91         6\n",
      "    ahwcf_v3       0.50      1.00      0.67         1\n",
      "    ahwcf_v4       0.67      1.00      0.80         2\n",
      "    aicf_pg1       1.00      0.99      0.99       200\n",
      "    aicf_pg2       0.99      0.92      0.96       187\n",
      "     aicf_v1       1.00      0.67      0.80        24\n",
      "     aicf_v2       0.71      1.00      0.83         5\n",
      "     aicf_v3       1.00      1.00      1.00         1\n",
      "      canscr       1.00      1.00      1.00         1\n",
      "      clmapp       1.00      1.00      1.00         3\n",
      "    hicf_pg1       0.00      0.00      0.00         0\n",
      "    hicf_pg2       1.00      0.86      0.92         7\n",
      " hicf_pg2_v2       0.00      0.00      0.00         1\n",
      " init_pg1_v2       1.00      1.00      1.00         1\n",
      "    init_pg3       1.00      1.00      1.00         1\n",
      "       other       1.00      0.67      0.80         3\n",
      "     phystmt       0.00      0.00      0.00         0\n",
      "       ptscf       0.53      0.90      0.67        20\n",
      "       pvbcf       1.00      1.00      1.00        12\n",
      "\n",
      "    accuracy                           0.93       476\n",
      "   macro avg       0.77      0.79      0.77       476\n",
      "weighted avg       0.97      0.93      0.95       476\n",
      "\n"
     ]
    },
    {
     "name": "stderr",
     "output_type": "stream",
     "text": [
      "/opt/conda/lib/python3.8/site-packages/sklearn/metrics/_classification.py:1248: UndefinedMetricWarning: Precision and F-score are ill-defined and being set to 0.0 in labels with no predicted samples. Use `zero_division` parameter to control this behavior.\n",
      "  _warn_prf(average, modifier, msg_start, len(result))\n",
      "/opt/conda/lib/python3.8/site-packages/sklearn/metrics/_classification.py:1248: UndefinedMetricWarning: Recall and F-score are ill-defined and being set to 0.0 in labels with no true samples. Use `zero_division` parameter to control this behavior.\n",
      "  _warn_prf(average, modifier, msg_start, len(result))\n",
      "/opt/conda/lib/python3.8/site-packages/sklearn/metrics/_classification.py:1248: UndefinedMetricWarning: Precision and F-score are ill-defined and being set to 0.0 in labels with no predicted samples. Use `zero_division` parameter to control this behavior.\n",
      "  _warn_prf(average, modifier, msg_start, len(result))\n",
      "/opt/conda/lib/python3.8/site-packages/sklearn/metrics/_classification.py:1248: UndefinedMetricWarning: Recall and F-score are ill-defined and being set to 0.0 in labels with no true samples. Use `zero_division` parameter to control this behavior.\n",
      "  _warn_prf(average, modifier, msg_start, len(result))\n",
      "/opt/conda/lib/python3.8/site-packages/sklearn/metrics/_classification.py:1248: UndefinedMetricWarning: Precision and F-score are ill-defined and being set to 0.0 in labels with no predicted samples. Use `zero_division` parameter to control this behavior.\n",
      "  _warn_prf(average, modifier, msg_start, len(result))\n",
      "/opt/conda/lib/python3.8/site-packages/sklearn/metrics/_classification.py:1248: UndefinedMetricWarning: Recall and F-score are ill-defined and being set to 0.0 in labels with no true samples. Use `zero_division` parameter to control this behavior.\n",
      "  _warn_prf(average, modifier, msg_start, len(result))\n"
     ]
    }
   ],
   "source": [
    "print(classification_report(list(filtered_df['revised_template']),list(filtered_df['results'])))"
   ]
  },
  {
   "cell_type": "code",
   "execution_count": null,
   "id": "ab1b67cf-3d05-438e-821c-c14c04076176",
   "metadata": {},
   "outputs": [],
   "source": []
  }
 ],
 "metadata": {
  "instance_type": "ml.t3.medium",
  "kernelspec": {
   "display_name": "Python 3 (Data Science 2.0)",
   "language": "python",
   "name": "python3__SAGEMAKER_INTERNAL__arn:aws:sagemaker:us-east-1:081325390199:image/sagemaker-data-science-38"
  },
  "language_info": {
   "codemirror_mode": {
    "name": "ipython",
    "version": 3
   },
   "file_extension": ".py",
   "mimetype": "text/x-python",
   "name": "python",
   "nbconvert_exporter": "python",
   "pygments_lexer": "ipython3",
   "version": "3.8.13"
  }
 },
 "nbformat": 4,
 "nbformat_minor": 5
}
