{
 "cells": [
  {
   "cell_type": "markdown",
   "id": "e0bcab07-7f78-4b95-ba9b-8d4bbe01da57",
   "metadata": {},
   "source": [
    "# Experiment 5: USE Small\n",
    "## Approach: \n",
    "* Universal Sentence Encoder Small\n",
    "* Template matrix build from text encodings \n",
    "* No text preprocesseing\n",
    "* Similarity measured between template and document.\n",
    "* Similarity below 0.7 ruled 'other.\n",
    "\n",
    "## Dataset:\n",
    "* interim_output_template_500_documents_rev4.xlsx.\n",
    "* 476 documents tested (some not included due to textract problem).\n",
    "* 19 templates used - [acdbcf, ahwcf, ahwcf_v3, ahwcf_v4, aicf_pg1, aicf_pg2, aicf_v1, aicf_v2, aicf_v3, canscr, clmapp, hicf_pg1, hicf_pg2, init_pg1_v2, init_pg3, phystmt, ptscf, pvbcf]\n",
    "* Available [here](\"s3://aaca-ani-experiments-data/aaca-docdig-test/offline_cf_classification/templates/template_images/\")\n",
    "\n",
    "# Result: 99% F1 Score and a much faster processing time ~3mins vs ~50sec"
   ]
  },
  {
   "cell_type": "code",
   "execution_count": 4,
   "id": "9b463231-0f42-4480-bf31-17606248c722",
   "metadata": {},
   "outputs": [
    {
     "name": "stderr",
     "output_type": "stream",
     "text": [
      "2023-01-03 11:48:59.918796: W tensorflow/stream_executor/platform/default/dso_loader.cc:64] Could not load dynamic library 'libcuda.so.1'; dlerror: libcuda.so.1: cannot open shared object file: No such file or directory\n",
      "2023-01-03 11:48:59.918842: W tensorflow/stream_executor/cuda/cuda_driver.cc:269] failed call to cuInit: UNKNOWN ERROR (303)\n",
      "2023-01-03 11:48:59.918871: I tensorflow/stream_executor/cuda/cuda_diagnostics.cc:156] kernel driver does not appear to be running on this host (sagemaker-data-scienc-ml-t3-medium-5812005f1de07e20cb211bb2dcf1): /proc/driver/nvidia/version does not exist\n",
      "2023-01-03 11:48:59.919080: I tensorflow/core/platform/cpu_feature_guard.cc:151] This TensorFlow binary is optimized with oneAPI Deep Neural Network Library (oneDNN) to use the following CPU instructions in performance-critical operations:  AVX2 AVX512F FMA\n",
      "To enable them in other operations, rebuild TensorFlow with the appropriate compiler flags.\n",
      "2023-01-03 11:49:01.160099: W tensorflow/core/framework/cpu_allocator_impl.cc:82] Allocation of 34133760 exceeds 10% of free system memory.\n",
      "2023-01-03 11:49:01.185538: W tensorflow/core/framework/cpu_allocator_impl.cc:82] Allocation of 34133760 exceeds 10% of free system memory.\n",
      "2023-01-03 11:49:01.210877: W tensorflow/core/framework/cpu_allocator_impl.cc:82] Allocation of 34133760 exceeds 10% of free system memory.\n",
      "2023-01-03 11:49:01.237953: W tensorflow/core/framework/cpu_allocator_impl.cc:82] Allocation of 34133760 exceeds 10% of free system memory.\n",
      "2023-01-03 11:49:01.261564: W tensorflow/core/framework/cpu_allocator_impl.cc:82] Allocation of 34133760 exceeds 10% of free system memory.\n"
     ]
    },
    {
     "name": "stdout",
     "output_type": "stream",
     "text": [
      "01/03/2023 11:49:05 | __main__ | INFO: Beginning creation of templates\n",
      "01/03/2023 11:50:33 | __main__ | INFO: Template creation complete\n"
     ]
    }
   ],
   "source": [
    "%run create_template_main.py"
   ]
  },
  {
   "cell_type": "code",
   "execution_count": 2,
   "id": "c033fe40-377a-4bcb-abe0-28c42505257b",
   "metadata": {},
   "outputs": [
    {
     "name": "stderr",
     "output_type": "stream",
     "text": [
      "2022-11-03 15:55:43.765972: W tensorflow/stream_executor/platform/default/dso_loader.cc:64] Could not load dynamic library 'libcudart.so.11.0'; dlerror: libcudart.so.11.0: cannot open shared object file: No such file or directory\n",
      "2022-11-03 15:55:43.766013: I tensorflow/stream_executor/cuda/cudart_stub.cc:29] Ignore above cudart dlerror if you do not have a GPU set up on your machine.\n",
      "2022-11-03 15:55:47.579700: W tensorflow/stream_executor/platform/default/dso_loader.cc:64] Could not load dynamic library 'libcuda.so.1'; dlerror: libcuda.so.1: cannot open shared object file: No such file or directory\n",
      "2022-11-03 15:55:47.579742: W tensorflow/stream_executor/cuda/cuda_driver.cc:269] failed call to cuInit: UNKNOWN ERROR (303)\n",
      "2022-11-03 15:55:47.579771: I tensorflow/stream_executor/cuda/cuda_diagnostics.cc:156] kernel driver does not appear to be running on this host (sagemaker-data-scienc-ml-t3-medium-5812005f1de07e20cb211bb2dcf1): /proc/driver/nvidia/version does not exist\n",
      "2022-11-03 15:55:47.581183: I tensorflow/core/platform/cpu_feature_guard.cc:151] This TensorFlow binary is optimized with oneAPI Deep Neural Network Library (oneDNN) to use the following CPU instructions in performance-critical operations:  AVX2 AVX512F FMA\n",
      "To enable them in other operations, rebuild TensorFlow with the appropriate compiler flags.\n"
     ]
    },
    {
     "name": "stdout",
     "output_type": "stream",
     "text": [
      "11/03/2022 15:55:59 | __main__ | INFO: Beginning classification run on test set: aaca-docdig-test/offline_cf_classification/test_sets/text_files_500/\n",
      "11/03/2022 15:56:47 | __main__ | INFO: Completed classification run\n",
      "11/03/2022 15:56:47 | __main__ | INFO: Results saved to: data/results/experiment_5.xlsx\n"
     ]
    }
   ],
   "source": [
    "%run run_on_test_set.py"
   ]
  },
  {
   "cell_type": "code",
   "execution_count": 3,
   "id": "30978c26-4629-4c38-aa8f-2698079b71d1",
   "metadata": {},
   "outputs": [],
   "source": [
    "from sklearn.metrics import classification_report\n",
    "from utils import fix_others"
   ]
  },
  {
   "cell_type": "code",
   "execution_count": 4,
   "id": "324a0948-1939-4427-8102-0330dd389cbd",
   "metadata": {},
   "outputs": [
    {
     "data": {
      "text/html": [
       "<div>\n",
       "<style scoped>\n",
       "    .dataframe tbody tr th:only-of-type {\n",
       "        vertical-align: middle;\n",
       "    }\n",
       "\n",
       "    .dataframe tbody tr th {\n",
       "        vertical-align: top;\n",
       "    }\n",
       "\n",
       "    .dataframe thead th {\n",
       "        text-align: right;\n",
       "    }\n",
       "</style>\n",
       "<table border=\"1\" class=\"dataframe\">\n",
       "  <thead>\n",
       "    <tr style=\"text-align: right;\">\n",
       "      <th></th>\n",
       "      <th>json</th>\n",
       "      <th>template</th>\n",
       "      <th>textarct_key_value_dictionary</th>\n",
       "      <th>text</th>\n",
       "      <th>png_path</th>\n",
       "      <th>template_from_interim_logic</th>\n",
       "      <th>Unnamed: 7</th>\n",
       "      <th>revised_template</th>\n",
       "      <th>results</th>\n",
       "      <th>score</th>\n",
       "    </tr>\n",
       "  </thead>\n",
       "  <tbody>\n",
       "    <tr>\n",
       "      <th>0</th>\n",
       "      <td>doc-digitization-pipeline/AD/P0X024W1_02751999...</td>\n",
       "      <td>ahwcf</td>\n",
       "      <td>{'ZIP:': '3 2 5 0 4', 'Primary Pollcyholder': ...</td>\n",
       "      <td>02-26-21:11:174M; ;11 # 2/ 2 20 ACCIDENT WELLN...</td>\n",
       "      <td>doc-digitization-pipeline/AD/P0X024W1_02751999...</td>\n",
       "      <td>ahwcf</td>\n",
       "      <td>NaN</td>\n",
       "      <td>ahwcf_v3</td>\n",
       "      <td>ahwcf_v4</td>\n",
       "      <td>0.856478</td>\n",
       "    </tr>\n",
       "    <tr>\n",
       "      <th>1</th>\n",
       "      <td>doc-digitization-pipeline/AD/PX372696_02641791...</td>\n",
       "      <td>aicf_pg2</td>\n",
       "      <td>{'*Date of Birth (mm/dd/yy)': '/ /', 'DATE': '...</td>\n",
       "      <td>PX372696 Policyholder Information: *Last Name ...</td>\n",
       "      <td>doc-digitization-pipeline/AD/PX372696_02641791...</td>\n",
       "      <td>aicf_pg2</td>\n",
       "      <td>NaN</td>\n",
       "      <td>aicf_pg2</td>\n",
       "      <td>aicf_pg2</td>\n",
       "      <td>0.986425</td>\n",
       "    </tr>\n",
       "    <tr>\n",
       "      <th>2</th>\n",
       "      <td>doc-digitization-pipeline/AD/P0342280_02744692...</td>\n",
       "      <td>aicf_v1</td>\n",
       "      <td>{'State': 'IL', 'Initial': 'R.', 'ZIP': '61234...</td>\n",
       "      <td>ACCIDENTAL INJURY CLAIM FORM Failure to comple...</td>\n",
       "      <td>doc-digitization-pipeline/AD/P0342280_02744692...</td>\n",
       "      <td>other</td>\n",
       "      <td>NaN</td>\n",
       "      <td>aicf_v1</td>\n",
       "      <td>aicf_v1</td>\n",
       "      <td>0.949180</td>\n",
       "    </tr>\n",
       "    <tr>\n",
       "      <th>3</th>\n",
       "      <td>doc-digitization-pipeline/AD/P0L700T5_02844807...</td>\n",
       "      <td>aicf_pg2</td>\n",
       "      <td>{'No': 'X', '*First Name': 'M I C H A E L', 'D...</td>\n",
       "      <td>if you have additional bills or medical docume...</td>\n",
       "      <td>doc-digitization-pipeline/AD/P0L700T5_02844807...</td>\n",
       "      <td>aicf_pg2</td>\n",
       "      <td>NaN</td>\n",
       "      <td>aicf_pg2</td>\n",
       "      <td>aicf_pg2</td>\n",
       "      <td>0.923159</td>\n",
       "    </tr>\n",
       "    <tr>\n",
       "      <th>4</th>\n",
       "      <td>doc-digitization-pipeline/AD/P0P9L5Y4_02716028...</td>\n",
       "      <td>aicf_pg2</td>\n",
       "      <td>{'\"Date of Birth (mm/dd/yy)': 'D 8 / I 8 / 0 6...</td>\n",
       "      <td>02-10-21:02:42PM; AFLAC Claims ;7149869600 3/ ...</td>\n",
       "      <td>doc-digitization-pipeline/AD/P0P9L5Y4_02716028...</td>\n",
       "      <td>aicf_pg2</td>\n",
       "      <td>NaN</td>\n",
       "      <td>aicf_pg2</td>\n",
       "      <td>aicf_pg2</td>\n",
       "      <td>0.930969</td>\n",
       "    </tr>\n",
       "  </tbody>\n",
       "</table>\n",
       "</div>"
      ],
      "text/plain": [
       "                                                json  template  \\\n",
       "0  doc-digitization-pipeline/AD/P0X024W1_02751999...     ahwcf   \n",
       "1  doc-digitization-pipeline/AD/PX372696_02641791...  aicf_pg2   \n",
       "2  doc-digitization-pipeline/AD/P0342280_02744692...   aicf_v1   \n",
       "3  doc-digitization-pipeline/AD/P0L700T5_02844807...  aicf_pg2   \n",
       "4  doc-digitization-pipeline/AD/P0P9L5Y4_02716028...  aicf_pg2   \n",
       "\n",
       "                       textarct_key_value_dictionary  \\\n",
       "0  {'ZIP:': '3 2 5 0 4', 'Primary Pollcyholder': ...   \n",
       "1  {'*Date of Birth (mm/dd/yy)': '/ /', 'DATE': '...   \n",
       "2  {'State': 'IL', 'Initial': 'R.', 'ZIP': '61234...   \n",
       "3  {'No': 'X', '*First Name': 'M I C H A E L', 'D...   \n",
       "4  {'\"Date of Birth (mm/dd/yy)': 'D 8 / I 8 / 0 6...   \n",
       "\n",
       "                                                text  \\\n",
       "0  02-26-21:11:174M; ;11 # 2/ 2 20 ACCIDENT WELLN...   \n",
       "1  PX372696 Policyholder Information: *Last Name ...   \n",
       "2  ACCIDENTAL INJURY CLAIM FORM Failure to comple...   \n",
       "3  if you have additional bills or medical docume...   \n",
       "4  02-10-21:02:42PM; AFLAC Claims ;7149869600 3/ ...   \n",
       "\n",
       "                                            png_path  \\\n",
       "0  doc-digitization-pipeline/AD/P0X024W1_02751999...   \n",
       "1  doc-digitization-pipeline/AD/PX372696_02641791...   \n",
       "2  doc-digitization-pipeline/AD/P0342280_02744692...   \n",
       "3  doc-digitization-pipeline/AD/P0L700T5_02844807...   \n",
       "4  doc-digitization-pipeline/AD/P0P9L5Y4_02716028...   \n",
       "\n",
       "  template_from_interim_logic Unnamed: 7 revised_template   results     score  \n",
       "0                       ahwcf        NaN         ahwcf_v3  ahwcf_v4  0.856478  \n",
       "1                    aicf_pg2        NaN         aicf_pg2  aicf_pg2  0.986425  \n",
       "2                       other        NaN          aicf_v1   aicf_v1  0.949180  \n",
       "3                    aicf_pg2        NaN         aicf_pg2  aicf_pg2  0.923159  \n",
       "4                    aicf_pg2        NaN         aicf_pg2  aicf_pg2  0.930969  "
      ]
     },
     "execution_count": 4,
     "metadata": {},
     "output_type": "execute_result"
    }
   ],
   "source": [
    "df = pd.read_excel('data/results/experiment_5.xlsx', index_col=0, engine='openpyxl')\n",
    "df.head()"
   ]
  },
  {
   "cell_type": "code",
   "execution_count": 5,
   "id": "b8988fbb-646c-4421-8239-9d39d7177495",
   "metadata": {},
   "outputs": [],
   "source": [
    "filtered_df = df[df['results'] != -100]"
   ]
  },
  {
   "cell_type": "code",
   "execution_count": 6,
   "id": "c8429c2f-b456-43d3-bae6-736c9fa5a84c",
   "metadata": {},
   "outputs": [
    {
     "name": "stderr",
     "output_type": "stream",
     "text": [
      "/tmp/ipykernel_1819/1466064053.py:1: SettingWithCopyWarning: \n",
      "A value is trying to be set on a copy of a slice from a DataFrame.\n",
      "Try using .loc[row_indexer,col_indexer] = value instead\n",
      "\n",
      "See the caveats in the documentation: https://pandas.pydata.org/pandas-docs/stable/user_guide/indexing.html#returning-a-view-versus-a-copy\n",
      "  filtered_df['results'] = filtered_df.apply(lambda row: fix_others(row), axis=1)\n"
     ]
    }
   ],
   "source": [
    "filtered_df['results'] = filtered_df.apply(lambda row: fix_others(row), axis=1)"
   ]
  },
  {
   "cell_type": "code",
   "execution_count": 7,
   "id": "7ca565b6-16f7-4c31-befa-5b8433ba40a9",
   "metadata": {},
   "outputs": [
    {
     "name": "stdout",
     "output_type": "stream",
     "text": [
      "              precision    recall  f1-score   support\n",
      "\n",
      "      acdbcf       0.50      1.00      0.67         1\n",
      "       ahwcf       1.00      1.00      1.00         6\n",
      "    ahwcf_v3       0.00      0.00      0.00         1\n",
      "    ahwcf_v4       0.50      1.00      0.67         2\n",
      "    aicf_pg1       1.00      1.00      1.00       200\n",
      "    aicf_pg2       1.00      1.00      1.00       187\n",
      "     aicf_v1       1.00      1.00      1.00        24\n",
      "     aicf_v2       1.00      1.00      1.00         5\n",
      "     aicf_v3       1.00      1.00      1.00         1\n",
      "      canscr       1.00      1.00      1.00         1\n",
      "      clmapp       1.00      1.00      1.00         3\n",
      "    hicf_pg2       0.88      1.00      0.93         7\n",
      " hicf_pg2_v2       0.00      0.00      0.00         1\n",
      " init_pg1_v2       1.00      1.00      1.00         1\n",
      "    init_pg3       1.00      1.00      1.00         1\n",
      "       other       1.00      0.67      0.80         3\n",
      "       ptscf       1.00      1.00      1.00        20\n",
      "       pvbcf       1.00      0.92      0.96        12\n",
      "\n",
      "    accuracy                           0.99       476\n",
      "   macro avg       0.83      0.87      0.83       476\n",
      "weighted avg       0.99      0.99      0.99       476\n",
      "\n"
     ]
    },
    {
     "name": "stderr",
     "output_type": "stream",
     "text": [
      "/opt/conda/lib/python3.8/site-packages/sklearn/metrics/_classification.py:1248: UndefinedMetricWarning: Precision and F-score are ill-defined and being set to 0.0 in labels with no predicted samples. Use `zero_division` parameter to control this behavior.\n",
      "  _warn_prf(average, modifier, msg_start, len(result))\n",
      "/opt/conda/lib/python3.8/site-packages/sklearn/metrics/_classification.py:1248: UndefinedMetricWarning: Precision and F-score are ill-defined and being set to 0.0 in labels with no predicted samples. Use `zero_division` parameter to control this behavior.\n",
      "  _warn_prf(average, modifier, msg_start, len(result))\n",
      "/opt/conda/lib/python3.8/site-packages/sklearn/metrics/_classification.py:1248: UndefinedMetricWarning: Precision and F-score are ill-defined and being set to 0.0 in labels with no predicted samples. Use `zero_division` parameter to control this behavior.\n",
      "  _warn_prf(average, modifier, msg_start, len(result))\n"
     ]
    }
   ],
   "source": [
    "print(classification_report(list(filtered_df['revised_template']),list(filtered_df['results'])))"
   ]
  },
  {
   "cell_type": "code",
   "execution_count": null,
   "id": "0c095be1-c267-467f-9b25-ede9d5c14af0",
   "metadata": {},
   "outputs": [],
   "source": []
  }
 ],
 "metadata": {
  "instance_type": "ml.t3.medium",
  "kernelspec": {
   "display_name": "Python 3 (Data Science 2.0)",
   "language": "python",
   "name": "python3__SAGEMAKER_INTERNAL__arn:aws:sagemaker:us-east-1:081325390199:image/sagemaker-data-science-38"
  },
  "language_info": {
   "codemirror_mode": {
    "name": "ipython",
    "version": 3
   },
   "file_extension": ".py",
   "mimetype": "text/x-python",
   "name": "python",
   "nbconvert_exporter": "python",
   "pygments_lexer": "ipython3",
   "version": "3.8.13"
  }
 },
 "nbformat": 4,
 "nbformat_minor": 5
}
